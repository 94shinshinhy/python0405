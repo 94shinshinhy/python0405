{
 "cells": [
  {
   "cell_type": "code",
   "execution_count": 1,
   "metadata": {},
   "outputs": [],
   "source": [
    "# import pandas as pd\n",
    "# df_movies = pd.read_csv(\"./ml-latest/movies.csv\")\n",
    "# df_ratings = pd.read_csv(\"./ml-latest/ratings.csv\")\n",
    "# df_movies.columns, df_ratings.columns\n",
    "# df_ratings['userId'].unique().shape"
   ]
  },
  {
   "cell_type": "code",
   "execution_count": 2,
   "metadata": {},
   "outputs": [],
   "source": [
    "import pandas as pd\n",
    "import numpy as np\n",
    "item = pd.read_csv(\"./ml-100k/u.item\", sep=\"|\",encoding=\"latin-1\", \n",
    "                      names=[\"movie_id\", \"movie_title\", \"release_date\", \"video_release_date\",\n",
    "                             \"imbd_url\", \"unknown\", \"action\", \"adventure\", \"animation\",\n",
    "                             \"childrens\", \"comedy\", \"crime\", \"documentary\", \"drama\", \"fantasy\", \n",
    "                             \"film_noir\", \"horror\", \"musical\", \"mystery\", \"romance\", \n",
    "                             \"sci-fi\", \"thriller\", \"war\", \"western\"])\n",
    "\n",
    "rating = pd.read_csv(\"./ml-100k/u.data\", sep=\"\\t\", names=[\"user_id\", \"item_id\", \"rating\", \"timestamp\"])"
   ]
  },
  {
   "cell_type": "code",
   "execution_count": 3,
   "metadata": {},
   "outputs": [],
   "source": [
    "item.head()\n",
    "movies = item.loc[:, ['movie_id', 'movie_title']]\n",
    "movies = item.loc[:, :'movie_title']\n",
    "#movies['movie_title']"
   ]
  },
  {
   "cell_type": "code",
   "execution_count": 4,
   "metadata": {},
   "outputs": [
    {
     "data": {
      "text/plain": [
       "((1682, 2), (1682, 24), (100000, 4))"
      ]
     },
     "execution_count": 4,
     "metadata": {},
     "output_type": "execute_result"
    }
   ],
   "source": [
    "#rating.drop('timestamp', axis=1, inplace=True)\n",
    "#rating\n",
    "# movies.head()\n",
    "# item.head()\n",
    "# rating.head()\n",
    "# movies.info()\n",
    "# item.info()\n",
    "# rating()\n",
    "# item.drop('release_date', axis=1, inplace=True)\n",
    "item.head()\n",
    "movies.shape, item.shape, rating.shape\n",
    "# item.head()"
   ]
  },
  {
   "cell_type": "code",
   "execution_count": 5,
   "metadata": {},
   "outputs": [],
   "source": [
    "user=pd.read_csv(\"./ml-100k/u.user\", sep=\"|\",encoding='latin-1',\n",
    "                 names=['user_id', 'age', 'gender', 'occupation', 'zip_code'])"
   ]
  },
  {
   "cell_type": "code",
   "execution_count": 6,
   "metadata": {},
   "outputs": [
    {
     "data": {
      "text/plain": [
       "(Index(['user_id', 'age', 'gender', 'occupation', 'zip_code'], dtype='object'),\n",
       " Index(['user_id', 'item_id', 'rating', 'timestamp'], dtype='object'),\n",
       " Index(['movie_id', 'movie_title'], dtype='object'))"
      ]
     },
     "execution_count": 6,
     "metadata": {},
     "output_type": "execute_result"
    }
   ],
   "source": [
    "user.columns, rating.columns, movies.columns"
   ]
  },
  {
   "cell_type": "code",
   "execution_count": 7,
   "metadata": {},
   "outputs": [],
   "source": [
    "df = pd.merge(user, rating, how='left', on='user_id')\n",
    "df2 = pd.merge(df, movies, how='left', right_on='movie_id', left_on='item_id')"
   ]
  },
  {
   "cell_type": "code",
   "execution_count": 9,
   "metadata": {},
   "outputs": [
    {
     "data": {
      "text/plain": [
       "movie_title\n",
       "Boxing Helena (1993)                          5\n",
       "Last Supper, The (1995)                       5\n",
       "Last of the Mohicans, The (1992)              5\n",
       "Late Bloomers (1996)                          5\n",
       "Laura (1944)                                  5\n",
       "                                             ..\n",
       "To Cross the Rubicon (1991)                   1\n",
       "Tigrero: A Film That Was Never Made (1994)    1\n",
       "Homage (1995)                                 1\n",
       "Hostile Intentions (1994)                     1\n",
       "Man from Down Under, The (1943)               1\n",
       "Name: rating, Length: 1664, dtype: int64"
      ]
     },
     "execution_count": 9,
     "metadata": {},
     "output_type": "execute_result"
    }
   ],
   "source": [
    "df2.head()\n",
    "# 영화별기준으로 가장 높은 평점을 받은 항목 출력하시오.\n",
    "df2.groupby('movie_title')['rating'].agg(np.max).sort_values(ascending=False)"
   ]
  }
 ],
 "metadata": {
  "kernelspec": {
   "display_name": "Python 3",
   "language": "python",
   "name": "python3"
  },
  "language_info": {
   "codemirror_mode": {
    "name": "ipython",
    "version": 3
   },
   "file_extension": ".py",
   "mimetype": "text/x-python",
   "name": "python",
   "nbconvert_exporter": "python",
   "pygments_lexer": "ipython3",
   "version": "3.7.4"
  }
 },
 "nbformat": 4,
 "nbformat_minor": 2
}
